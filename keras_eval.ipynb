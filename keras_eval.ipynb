{
 "cells": [
  {
   "cell_type": "code",
   "execution_count": 1,
   "metadata": {},
   "outputs": [],
   "source": [
    "import logging\n",
    "logging.getLogger('tensorflow').disabled = True\n",
    "# import utils\n",
    "import data_preparation\n",
    "import os\n",
    "import params\n",
    "import numpy as np\n",
    "import model_lib\n",
    "import tensorflow as tf\n",
    "import tensorflow_probability as tfp\n",
    "import matplotlib.pyplot as plt\n",
    "import seaborn as sns\n",
    "import pandas as pd\n",
    "import utils\n",
    "from tqdm import trange\n",
    "tfd = tfp.distributions\n",
    "gpus = tf.config.experimental.list_physical_devices('GPU')\n",
    "tf.config.experimental.set_memory_growth(gpus[0], True)"
   ]
  },
  {
   "cell_type": "code",
   "execution_count": 2,
   "metadata": {},
   "outputs": [],
   "source": [
    "train_size = 0\n",
    "for m in params.brand_models:\n",
    "    train_size += len(os.listdir(os.path.join(params.patches_dir, 'train', m)))\n",
    "num_train_steps = (train_size + params.BATCH_SIZE - 1) // params.BATCH_SIZE"
   ]
  },
  {
   "cell_type": "code",
   "execution_count": 4,
   "metadata": {},
   "outputs": [
    {
     "data": {
      "text/plain": [
       "<tensorflow.python.training.tracking.util.CheckpointLoadStatus at 0x7f77e01c8e90>"
      ]
     },
     "execution_count": 4,
     "metadata": {},
     "output_type": "execute_result"
    }
   ],
   "source": [
    "kl_divergence_function = (lambda q, p, _: tfd.kl_divergence(q, p) /  # pylint: disable=g-long-lambda\n",
    "                        tf.cast(10 * num_train_steps, dtype=tf.float32))\n",
    "model = tf.keras.models.Sequential([\n",
    "    tf.keras.layers.Conv2D(3, (5, 5), \n",
    "                           padding='same'),\n",
    "    tfp.layers.Convolution2DFlipout(96, \n",
    "        kernel_size=7, strides=2, padding='SAME', \n",
    "        kernel_divergence_fn=kl_divergence_function,\n",
    "        activation=tf.nn.selu),\n",
    "    tf.keras.layers.MaxPool2D(\n",
    "        pool_size=[3, 3], strides=2,\n",
    "        padding='SAME'),\n",
    "    tfp.layers.Convolution2DFlipout(\n",
    "        64, kernel_size=5, strides=1,\n",
    "        padding='SAME', \n",
    "        kernel_divergence_fn=kl_divergence_function,\n",
    "        activation=tf.nn.selu),\n",
    "    tf.keras.layers.MaxPool2D(\n",
    "        pool_size=[3, 3], strides=1,\n",
    "        padding='SAME'),\n",
    "    tfp.layers.Convolution2DFlipout(\n",
    "        128, kernel_size=1, \n",
    "        strides=1, padding='SAME', \n",
    "        kernel_divergence_fn=kl_divergence_function,\n",
    "        activation=tf.nn.selu),\n",
    "    tf.keras.layers.MaxPool2D(\n",
    "        pool_size=[3, 3], strides=2,\n",
    "        padding='SAME'),\n",
    "    tf.keras.layers.Flatten(),\n",
    "    tfp.layers.DenseFlipout(\n",
    "        len(params.brand_models), kernel_divergence_fn=kl_divergence_function)\n",
    "])\n",
    "\n",
    "model.compile(optimizer=tf.keras.optimizers.Adam(lr=0.001),\n",
    "              loss=tf.keras.losses.CategoricalCrossentropy(from_logits=True),\n",
    "              metrics=['accuracy'],\n",
    "              experimental_run_tf_function=False)\n",
    "model.build(input_shape=[None, 256, 256, 1])\n",
    "\n",
    "# Loads the weights\n",
    "model.load_weights('./ckpts/10_num_batches/')"
   ]
  },
  {
   "cell_type": "code",
   "execution_count": 6,
   "metadata": {},
   "outputs": [
    {
     "name": "stdout",
     "output_type": "stream",
     "text": [
      "saved trained_weight.png\n"
     ]
    }
   ],
   "source": [
    "names = [layer.name for layer in model.layers \n",
    "        if 'flipout' in layer.name]\n",
    "# dense_flipout/kernel_posterior_loc:0\n",
    "qm_vals = [layer.kernel_posterior.mean() \n",
    "        for layer in model.layers\n",
    "        if 'flipout' in layer.name]\n",
    "\n",
    "qs_vals = [layer.kernel_posterior.stddev() \n",
    "        for layer in model.layers\n",
    "        if 'flipout' in layer.name]\n",
    "\n",
    "utils.plot_weight_posteriors(names, qm_vals, qs_vals, 'trained_weight.png')\n",
    "logging.info(\"mean of mean is {}, mean variance is {}\".\n",
    "              format(tf.reduce_mean(qm_vals[0]),\n",
    "              tf.reduce_mean(qs_vals[0])))"
   ]
  },
  {
   "cell_type": "code",
   "execution_count": 4,
   "metadata": {},
   "outputs": [
    {
     "name": "stderr",
     "output_type": "stream",
     "text": [
      "Creating the dataset...\n",
      "Creating the model...\n"
     ]
    }
   ],
   "source": [
    "utils.set_logger('evaluate.log')\n",
    "num_monte_carlo = 30\n",
    "\n",
    "# Create the input data pipeline\n",
    "logging.info(\"Creating the dataset...\")\n",
    "test_iterator = data_preparation.build_dataset('test')\n",
    "\n",
    "# Define the model\n",
    "logging.info(\"Creating the model...\")\n",
    "test_loss = tf.keras.metrics.Mean(name='test_loss')\n",
    "test_accuracy = tf.keras.metrics.CategoricalAccuracy(name='test_accuracy')\n",
    "\n",
    "@tf.function\n",
    "def test_step(images, label):\n",
    "    with tf.GradientTape() as tape:\n",
    "        logits = model(images)\n",
    "        neg_log_likelihood = tf.keras.losses.categorical_crossentropy(labels, logits, from_logits=True)\n",
    "        kl = sum(model.losses)\n",
    "        loss = neg_log_likelihood + kl\n",
    "\n",
    "    test_loss.update_state(loss)  \n",
    "    test_accuracy.update_state(labels, logits)  \n",
    "\n",
    "test_size = 0\n",
    "for m in params.brand_models:\n",
    "    test_size += len(os.listdir(os.path.join(params.patches_dir, 'test', m)))\n",
    "num_test_steps = (test_size + params.BATCH_SIZE - 1) // params.BATCH_SIZE"
   ]
  },
  {
   "cell_type": "code",
   "execution_count": 5,
   "metadata": {
    "collapsed": true,
    "jupyter": {
     "outputs_hidden": true
    }
   },
   "outputs": [
    {
     "name": "stderr",
     "output_type": "stream",
     "text": [
      "  0%|          | 0/276 [00:00<?, ?it/s] ... Held-out nats: 0.077\n",
      "\n"
     ]
    },
    {
     "name": "stdout",
     "output_type": "stream",
     "text": [
      " ... Held-out nats: 0.077\n"
     ]
    },
    {
     "name": "stderr",
     "output_type": "stream",
     "text": [
      "/home/pan/anaconda3/envs/bnn/lib/python3.7/site-packages/matplotlib/text.py:1165: FutureWarning: elementwise comparison failed; returning scalar instead, but in the future will perform elementwise comparison\n",
      "  if s != self._text:\n",
      "  1%|          | 3/276 [00:08<25:22,  5.58s/it]"
     ]
    },
    {
     "name": "stdout",
     "output_type": "stream",
     "text": [
      "saved step0_pred.png\n"
     ]
    },
    {
     "name": "stderr",
     "output_type": "stream",
     "text": [
      " 18%|█▊        | 49/276 [00:11<00:18, 12.16it/s] ... Held-out nats: 0.067\n",
      "\n"
     ]
    },
    {
     "name": "stdout",
     "output_type": "stream",
     "text": [
      " ... Held-out nats: 0.067\n"
     ]
    },
    {
     "name": "stderr",
     "output_type": "stream",
     "text": [
      " 19%|█▉        | 53/276 [00:17<02:17,  1.63it/s]"
     ]
    },
    {
     "name": "stdout",
     "output_type": "stream",
     "text": [
      "saved step50_pred.png\n"
     ]
    },
    {
     "name": "stderr",
     "output_type": "stream",
     "text": [
      " 36%|███▌      | 99/276 [00:20<00:14, 12.39it/s] ... Held-out nats: 0.147\n",
      "\n"
     ]
    },
    {
     "name": "stdout",
     "output_type": "stream",
     "text": [
      " ... Held-out nats: 0.147\n"
     ]
    },
    {
     "name": "stderr",
     "output_type": "stream",
     "text": [
      " 37%|███▋      | 103/276 [00:26<01:47,  1.62it/s]"
     ]
    },
    {
     "name": "stdout",
     "output_type": "stream",
     "text": [
      "saved step100_pred.png\n"
     ]
    },
    {
     "name": "stderr",
     "output_type": "stream",
     "text": [
      " 54%|█████▍    | 149/276 [00:29<00:10, 12.41it/s] ... Held-out nats: 0.118\n",
      "\n"
     ]
    },
    {
     "name": "stdout",
     "output_type": "stream",
     "text": [
      " ... Held-out nats: 0.118\n"
     ]
    },
    {
     "name": "stderr",
     "output_type": "stream",
     "text": [
      " 55%|█████▌    | 153/276 [00:35<01:15,  1.63it/s]"
     ]
    },
    {
     "name": "stdout",
     "output_type": "stream",
     "text": [
      "saved step150_pred.png\n"
     ]
    },
    {
     "name": "stderr",
     "output_type": "stream",
     "text": [
      " 72%|███████▏  | 199/276 [00:39<00:06, 12.46it/s] ... Held-out nats: 0.035\n",
      "\n"
     ]
    },
    {
     "name": "stdout",
     "output_type": "stream",
     "text": [
      " ... Held-out nats: 0.035\n"
     ]
    },
    {
     "name": "stderr",
     "output_type": "stream",
     "text": [
      " 74%|███████▎  | 203/276 [00:44<00:46,  1.58it/s]"
     ]
    },
    {
     "name": "stdout",
     "output_type": "stream",
     "text": [
      "saved step200_pred.png\n"
     ]
    },
    {
     "name": "stderr",
     "output_type": "stream",
     "text": [
      " 90%|█████████ | 249/276 [00:48<00:02, 12.77it/s] ... Held-out nats: 0.136\n",
      "\n"
     ]
    },
    {
     "name": "stdout",
     "output_type": "stream",
     "text": [
      " ... Held-out nats: 0.136\n"
     ]
    },
    {
     "name": "stderr",
     "output_type": "stream",
     "text": [
      " 92%|█████████▏| 253/276 [00:53<00:14,  1.62it/s]"
     ]
    },
    {
     "name": "stdout",
     "output_type": "stream",
     "text": [
      "saved step250_pred.png\n"
     ]
    },
    {
     "name": "stderr",
     "output_type": "stream",
     "text": [
      "100%|██████████| 276/276 [00:55<00:00,  4.95it/s]\n",
      "test loss: 124.962, test accuracy: 92.861%\n",
      "\n"
     ]
    }
   ],
   "source": [
    "for step in trange(num_test_steps):\n",
    "    images, labels = test_iterator.get_next()\n",
    "    test_step(images, labels)\n",
    "\n",
    "    if step % 50 == 0:\n",
    "        probs, heldout_log_prob = utils.compute_probs(model, images)\n",
    "        logging.info(' ... Held-out nats: {:.3f}\\n'.format(heldout_log_prob))\n",
    "        utils.plot_heldout_prediction(images, labels.numpy(), probs,\n",
    "                              fname='step{}_pred.png'.format(step),\n",
    "                              title='mean heldout logprob {:.2f}'\n",
    "                              .format(heldout_log_prob.numpy()))                                                 \n",
    "\n",
    "logging.info('test loss: {:.3f}, test accuracy: {:.3%}\\n'.format(test_loss.result(),\n",
    "                                                    test_accuracy.result()))"
   ]
  }
 ],
 "metadata": {
  "kernelspec": {
   "display_name": "Python 3",
   "language": "python",
   "name": "python3"
  },
  "language_info": {
   "codemirror_mode": {
    "name": "ipython",
    "version": 3
   },
   "file_extension": ".py",
   "mimetype": "text/x-python",
   "name": "python",
   "nbconvert_exporter": "python",
   "pygments_lexer": "ipython3",
   "version": "3.7.7"
  }
 },
 "nbformat": 4,
 "nbformat_minor": 4
}
